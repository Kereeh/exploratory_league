{
 "cells": [
  {
   "cell_type": "code",
   "execution_count": 35,
   "metadata": {},
   "outputs": [],
   "source": [
    "import cassiopeia as cass\n",
    "from cassiopeia import Champion, Champions\n",
    "from cassiopeia import Items, Item\n",
    "\n",
    "import numpy as py\n",
    "import pandas as pd\n",
    "\n",
    "cass.set_riot_api_key('RGAPI-8a2c970f-d975-405e-b7e8-8ecc4169c588')\n",
    "cass.set_default_region('NA')"
   ]
  },
  {
   "cell_type": "code",
   "execution_count": 36,
   "metadata": {},
   "outputs": [],
   "source": [
    "def get_items():\n",
    "    items = cass.get_items(region=\"NA\")\n",
    "    #for item in items: \n",
    "        #print(item.name)\n",
    "    \n",
    "    print(items[10].name)\n",
    "    \n",
    "    dagger = Item(name=\"Dagger\", region=\"NA\")\n",
    "    print(dagger.name, dagger.id)\n"
   ]
  },
  {
   "cell_type": "code",
   "execution_count": 46,
   "metadata": {},
   "outputs": [],
   "source": [
    "def get_champions():\n",
    "    champions = Champions(region=\"NA\")\n",
    "    #for champions in champions:\n",
    "    #    print(champion.name, champion.id)\n",
    "        \n",
    "    champ = Champion(name=\"Ezreal\", region = \"NA\")\n",
    "    \n",
    "    print(champ.name)\n",
    "    #print(champ.spells)\n",
    "    \n",
    "    df = pd.DataFrame(columns = [\"Spell\", \"Description\", \"Cost\"])\n",
    "    #for spell in champ.spells:\n",
    "        #df[0] = df.append(spell.name)     \n",
    "    print(\"Difficulty Level:\", champ.info.difficulty)\n",
    "    print(\"Passive Name:\", champ.passive.name)\n",
    "    print({item.name: count for item, count in champ.recommended_itemsets[0].item_sets[0].items.items()})\n",
    "    \n",
    "    #print(champ.free_to_play)\n",
    "    #print(df)"
   ]
  }
 ],
 "metadata": {
  "kernelspec": {
   "display_name": "Python 3",
   "language": "python",
   "name": "python3"
  },
  "language_info": {
   "codemirror_mode": {
    "name": "ipython",
    "version": 3
   },
   "file_extension": ".py",
   "mimetype": "text/x-python",
   "name": "python",
   "nbconvert_exporter": "python",
   "pygments_lexer": "ipython3",
   "version": "3.7.4"
  }
 },
 "nbformat": 4,
 "nbformat_minor": 2
}
