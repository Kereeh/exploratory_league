{
 "cells": [
  {
   "cell_type": "markdown",
   "metadata": {},
   "source": [
    "- Soloqueue Aggregate: Champ, Keystone, Games/Times Played, Winrate, KDA, Last Date Played\n",
    "- Match History: Champ, Date, Result | Primary, Secondary Tree, Item Builds, Match History"
   ]
  },
  {
   "cell_type": "code",
   "execution_count": 1,
   "metadata": {},
   "outputs": [],
   "source": [
    "#importing required libraries\n",
    "import cassiopeia as cass\n",
    "from cassiopeia.core import Summoner, MatchHistory, Match\n",
    "from cassiopeia import Queue, Patch, Season\n",
    "from collections import Counter\n",
    "import arrow\n",
    "\n",
    "cass.set_riot_api_key(\"RGAPI-a5b0b6e7-6f66-4db3-aaad-af5f59114263\")"
   ]
  },
  {
   "cell_type": "code",
   "execution_count": 20,
   "metadata": {},
   "outputs": [
    {
     "name": "stdout",
     "output_type": "stream",
     "text": [
      "Making call: https://na1.api.riotgames.com/lol/match/v4/matchlists/by-account/WMHy3gmVhb_kNkzAeB_svHY0nARTm6FHv9fT64prIvCZZzU?beginIndex=0&endIndex=100\n",
      "/v1/stats/player_history/NA1/207418000\n"
     ]
    }
   ],
   "source": [
    "summ = Summoner(name = \"Kehree\", region = \"NA\")\n",
    "good_with = summ.champion_masteries.filter(lambda cm: cm.level>=6)\n",
    "#print([cm.champion.name for cm in good_with])\n",
    "\n",
    "print(summ.match_history_uri)\n"
   ]
  },
  {
   "cell_type": "code",
   "execution_count": 21,
   "metadata": {},
   "outputs": [],
   "source": [
    "def get_match(name:str, region:str):\n",
    "    #initializing parameters\n",
    "    summoner = Summoner(name = name, \n",
    "                        region =region)\n",
    "    match_history = summoner.match_history\n",
    "    match_history(queues = {Queue.ranked_solo_fives}, \n",
    "                  seasons = {Season.season_9})\n",
    "    \n",
    "    champion_id_name = {champion.id: champion.name for champion in cass.get_champions(region=region)}\n",
    "    played_champions = Counter()\n",
    "    \n",
    "    for match in match_history:\n",
    "        p = match.participants[summoner]\n",
    "        champion_id = p.champion.id\n",
    "        match_url = match_history.match_history_uri\n",
    "        \n",
    "        champion_name = champion_id_name[champion_id]\n",
    "        played_champions[champion_name] += 1\n",
    "        \n",
    "    match = match_history[0]\n",
    "    print(match.id)"
   ]
  },
  {
   "cell_type": "code",
   "execution_count": 25,
   "metadata": {
    "scrolled": true
   },
   "outputs": [
    {
     "name": "stdout",
     "output_type": "stream",
     "text": [
      "Making call: https://na1.api.riotgames.com/lol/match/v4/matchlists/by-account/WMHy3gmVhb_kNkzAeB_svHY0nARTm6FHv9fT64prIvCZZzU?beginIndex=0&endIndex=100\n",
      "Making call: https://na1.api.riotgames.com/lol/match/v4/matchlists/by-account/WMHy3gmVhb_kNkzAeB_svHY0nARTm6FHv9fT64prIvCZZzU?beginIndex=100&endIndex=200\n",
      "Making call: https://na1.api.riotgames.com/lol/match/v4/matchlists/by-account/WMHy3gmVhb_kNkzAeB_svHY0nARTm6FHv9fT64prIvCZZzU?beginIndex=200&endIndex=300\n",
      "Making call: https://na1.api.riotgames.com/lol/match/v4/matchlists/by-account/WMHy3gmVhb_kNkzAeB_svHY0nARTm6FHv9fT64prIvCZZzU?beginIndex=300&endIndex=400\n",
      "Making call: https://na1.api.riotgames.com/lol/match/v4/matchlists/by-account/WMHy3gmVhb_kNkzAeB_svHY0nARTm6FHv9fT64prIvCZZzU?beginIndex=400&endIndex=500\n",
      "Making call: https://na1.api.riotgames.com/lol/match/v4/matchlists/by-account/WMHy3gmVhb_kNkzAeB_svHY0nARTm6FHv9fT64prIvCZZzU?beginIndex=500&endIndex=600\n",
      "Making call: https://na1.api.riotgames.com/lol/match/v4/matchlists/by-account/WMHy3gmVhb_kNkzAeB_svHY0nARTm6FHv9fT64prIvCZZzU?beginIndex=600&endIndex=700\n",
      "Top 10 champions Kehree played:\n",
      "Xayah 137\n",
      "Jhin 66\n",
      "Ezreal 41\n",
      "Thresh 41\n",
      "Tristana 38\n",
      "Braum 31\n",
      "Leona 29\n",
      "Varus 23\n",
      "Morgana 20\n",
      "Nautilus 15\n",
      "\n",
      "Match ID: 3222226784\n"
     ]
    }
   ],
   "source": [
    "summoner = Summoner(name = \"Kehree\", region = \"NA\")\n",
    "match_history = summoner.match_history\n",
    "match_history(queues = {Queue.ranked_solo_fives}, seasons = {Season.season_9})\n",
    "\n",
    "champion_id_to_name_mapping = {champion.id: champion.name for champion in cass.get_champions(region=\"NA\")}\n",
    "played_champions = Counter()\n",
    "\n",
    "for match in match_history:\n",
    "    champion_id = match.participants[summoner.name].champion.id\n",
    "    champion_name = champion_id_to_name_mapping[champion_id]\n",
    "    played_champions[champion_name] += 1\n",
    "        \n",
    "print(\"Top 10 champions {} played:\".format(summoner.name))\n",
    "for champion_name, count in played_champions.most_common(10):\n",
    "    print(champion_name, count)\n",
    "print()\n",
    "    \n",
    "match = match_history[0]\n",
    "print('Match ID:', match.id)\n",
    "\n"
   ]
  },
  {
   "cell_type": "code",
   "execution_count": null,
   "metadata": {},
   "outputs": [],
   "source": []
  }
 ],
 "metadata": {
  "kernelspec": {
   "display_name": "Python 3",
   "language": "python",
   "name": "python3"
  },
  "language_info": {
   "codemirror_mode": {
    "name": "ipython",
    "version": 3
   },
   "file_extension": ".py",
   "mimetype": "text/x-python",
   "name": "python",
   "nbconvert_exporter": "python",
   "pygments_lexer": "ipython3",
   "version": "3.7.4"
  }
 },
 "nbformat": 4,
 "nbformat_minor": 2
}
